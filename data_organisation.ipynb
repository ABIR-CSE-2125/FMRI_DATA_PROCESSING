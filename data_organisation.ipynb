{
 "cells": [
  {
   "cell_type": "code",
   "execution_count": 1,
   "metadata": {},
   "outputs": [],
   "source": [
    "import pandas as pd\n",
    "import pickle"
   ]
  },
  {
   "cell_type": "code",
   "execution_count": 2,
   "metadata": {},
   "outputs": [],
   "source": [
    "df = pd.read_csv('whole_data_fmri.csv')"
   ]
  },
  {
   "cell_type": "code",
   "execution_count": 3,
   "metadata": {},
   "outputs": [
    {
     "data": {
      "text/html": [
       "<div>\n",
       "<style scoped>\n",
       "    .dataframe tbody tr th:only-of-type {\n",
       "        vertical-align: middle;\n",
       "    }\n",
       "\n",
       "    .dataframe tbody tr th {\n",
       "        vertical-align: top;\n",
       "    }\n",
       "\n",
       "    .dataframe thead th {\n",
       "        text-align: right;\n",
       "    }\n",
       "</style>\n",
       "<table border=\"1\" class=\"dataframe\">\n",
       "  <thead>\n",
       "    <tr style=\"text-align: right;\">\n",
       "      <th></th>\n",
       "      <th>Image Data ID</th>\n",
       "      <th>Subject</th>\n",
       "      <th>Group</th>\n",
       "      <th>Sex</th>\n",
       "      <th>Age</th>\n",
       "      <th>Visit</th>\n",
       "      <th>Modality</th>\n",
       "      <th>Description</th>\n",
       "      <th>Type</th>\n",
       "      <th>Acq Date</th>\n",
       "      <th>Format</th>\n",
       "      <th>Downloaded</th>\n",
       "    </tr>\n",
       "  </thead>\n",
       "  <tbody>\n",
       "    <tr>\n",
       "      <th>0</th>\n",
       "      <td>I1619408</td>\n",
       "      <td>941_S_7106</td>\n",
       "      <td>MCI</td>\n",
       "      <td>F</td>\n",
       "      <td>72</td>\n",
       "      <td>sc</td>\n",
       "      <td>fMRI</td>\n",
       "      <td>Axial MB rsfMRI (Eyes Open)</td>\n",
       "      <td>Original</td>\n",
       "      <td>09-09-2022</td>\n",
       "      <td>DCM</td>\n",
       "      <td>5/29/2023</td>\n",
       "    </tr>\n",
       "    <tr>\n",
       "      <th>1</th>\n",
       "      <td>I1591326</td>\n",
       "      <td>941_S_7087</td>\n",
       "      <td>CN</td>\n",
       "      <td>M</td>\n",
       "      <td>67</td>\n",
       "      <td>sc</td>\n",
       "      <td>fMRI</td>\n",
       "      <td>Axial MB rsfMRI (Eyes Open)</td>\n",
       "      <td>Original</td>\n",
       "      <td>6/15/2022</td>\n",
       "      <td>DCM</td>\n",
       "      <td>5/29/2023</td>\n",
       "    </tr>\n",
       "    <tr>\n",
       "      <th>2</th>\n",
       "      <td>I1600185</td>\n",
       "      <td>941_S_7085</td>\n",
       "      <td>MCI</td>\n",
       "      <td>F</td>\n",
       "      <td>70</td>\n",
       "      <td>sc</td>\n",
       "      <td>fMRI</td>\n",
       "      <td>Axial MB rsfMRI (Eyes Open)</td>\n",
       "      <td>Original</td>\n",
       "      <td>07-01-2022</td>\n",
       "      <td>DCM</td>\n",
       "      <td>5/30/2023</td>\n",
       "    </tr>\n",
       "    <tr>\n",
       "      <th>3</th>\n",
       "      <td>I1588336</td>\n",
       "      <td>941_S_7074</td>\n",
       "      <td>CN</td>\n",
       "      <td>M</td>\n",
       "      <td>71</td>\n",
       "      <td>sc</td>\n",
       "      <td>fMRI</td>\n",
       "      <td>Axial MB rsfMRI (Eyes Open)</td>\n",
       "      <td>Original</td>\n",
       "      <td>05-03-2022</td>\n",
       "      <td>DCM</td>\n",
       "      <td>5/30/2023</td>\n",
       "    </tr>\n",
       "    <tr>\n",
       "      <th>4</th>\n",
       "      <td>I1553010</td>\n",
       "      <td>941_S_7051</td>\n",
       "      <td>CN</td>\n",
       "      <td>M</td>\n",
       "      <td>64</td>\n",
       "      <td>sc</td>\n",
       "      <td>fMRI</td>\n",
       "      <td>Axial MB rsfMRI (Eyes Open)</td>\n",
       "      <td>Original</td>\n",
       "      <td>03-07-2022</td>\n",
       "      <td>DCM</td>\n",
       "      <td>5/30/2023</td>\n",
       "    </tr>\n",
       "  </tbody>\n",
       "</table>\n",
       "</div>"
      ],
      "text/plain": [
       "  Image Data ID     Subject Group Sex  Age Visit Modality   \n",
       "0      I1619408  941_S_7106   MCI   F   72    sc     fMRI  \\\n",
       "1      I1591326  941_S_7087    CN   M   67    sc     fMRI   \n",
       "2      I1600185  941_S_7085   MCI   F   70    sc     fMRI   \n",
       "3      I1588336  941_S_7074    CN   M   71    sc     fMRI   \n",
       "4      I1553010  941_S_7051    CN   M   64    sc     fMRI   \n",
       "\n",
       "                   Description      Type    Acq Date Format Downloaded  \n",
       "0  Axial MB rsfMRI (Eyes Open)  Original  09-09-2022    DCM  5/29/2023  \n",
       "1  Axial MB rsfMRI (Eyes Open)  Original   6/15/2022    DCM  5/29/2023  \n",
       "2  Axial MB rsfMRI (Eyes Open)  Original  07-01-2022    DCM  5/30/2023  \n",
       "3  Axial MB rsfMRI (Eyes Open)  Original  05-03-2022    DCM  5/30/2023  \n",
       "4  Axial MB rsfMRI (Eyes Open)  Original  03-07-2022    DCM  5/30/2023  "
      ]
     },
     "execution_count": 3,
     "metadata": {},
     "output_type": "execute_result"
    }
   ],
   "source": [
    "df.head()"
   ]
  },
  {
   "cell_type": "code",
   "execution_count": null,
   "metadata": {},
   "outputs": [],
   "source": [
    "df.columns"
   ]
  },
  {
   "cell_type": "code",
   "execution_count": null,
   "metadata": {},
   "outputs": [],
   "source": [
    "date_formats_to_check = ['%Y-%m-%d', '%Y/%m/%d', '%m/%d/%Y','%m-%d-%Y','%d/%m/%Y','%d-%m-%Y']\n",
    "\n",
    "def infer_date_format(date_str):\n",
    "    for date_format in date_formats_to_check:\n",
    "        try:\n",
    "            temp = pd.to_datetime(date_str, format=date_format)\n",
    "            return temp\n",
    "        except ValueError:\n",
    "            pass\n",
    "    return 'Unknown'"
   ]
  },
  {
   "cell_type": "code",
   "execution_count": null,
   "metadata": {},
   "outputs": [],
   "source": [
    "df['Acq Date'] = df['Acq Date'].apply(infer_date_format)\n",
    "df = df.sort_values(by='Acq Date')\n",
    "df"
   ]
  },
  {
   "cell_type": "code",
   "execution_count": 5,
   "metadata": {},
   "outputs": [
    {
     "name": "stdout",
     "output_type": "stream",
     "text": [
      "         Subject  Count\n",
      "0     014_S_2308     44\n",
      "1     024_S_2239     34\n",
      "2     116_S_4855     32\n",
      "3     141_S_2333     31\n",
      "4     014_S_4576     31\n",
      "...          ...    ...\n",
      "1498  019_S_5180      1\n",
      "1499  019_S_6186      1\n",
      "1500  019_S_6573      1\n",
      "1501  019_S_6585      1\n",
      "1502  941_S_7106      1\n",
      "\n",
      "[1503 rows x 2 columns]\n"
     ]
    }
   ],
   "source": [
    "\n",
    "# Assuming df is your DataFrame and 'Subject' is a column in df\n",
    "p = df['Subject'].value_counts().reset_index()\n",
    "\n",
    "# Rename the columns for clarity\n",
    "p.columns = ['Subject', 'Count']\n",
    "\n",
    "# Display the DataFrame\n",
    "print(p)\n"
   ]
  },
  {
   "cell_type": "code",
   "execution_count": 6,
   "metadata": {},
   "outputs": [
    {
     "data": {
      "text/plain": [
       "(1503,)"
      ]
     },
     "execution_count": 6,
     "metadata": {},
     "output_type": "execute_result"
    }
   ],
   "source": [
    "subject_list = p['Subject']\n",
    "subject_list.shape"
   ]
  },
  {
   "cell_type": "code",
   "execution_count": null,
   "metadata": {},
   "outputs": [],
   "source": [
    "p.to_csv('Duplicate.csv',index=False)\n",
    "pickle.dump(p,open('duplicate_count.pkl','wb'))"
   ]
  },
  {
   "cell_type": "code",
   "execution_count": null,
   "metadata": {},
   "outputs": [],
   "source": [
    "grp = df.groupby('Subject')\n",
    "new_df = pd.DataFrame(columns=['Image Data ID', 'Subject', 'Group', 'Sex', 'Age', 'Visit', 'Modality','Description', 'Type', 'Acq Date', 'Format', 'Downloaded'])\n"
   ]
  },
  {
   "cell_type": "code",
   "execution_count": null,
   "metadata": {},
   "outputs": [],
   "source": [
    "grp_dict = {subject: group.to_dict(orient='records') for subject, group in grp}\n",
    "grp_dict"
   ]
  },
  {
   "cell_type": "code",
   "execution_count": null,
   "metadata": {},
   "outputs": [],
   "source": [
    "for key,entries in grp_dict.items():\n",
    "    for entry in entries:\n",
    "        new_df = pd.concat([new_df, pd.DataFrame([entry])], ignore_index=True)\n",
    "        # print(entry)"
   ]
  },
  {
   "cell_type": "code",
   "execution_count": null,
   "metadata": {},
   "outputs": [],
   "source": [
    "new_df.to_csv('Modified.csv',index= False)\n",
    "pickle.dump(p,open('modified.pkl','wb'))"
   ]
  },
  {
   "cell_type": "code",
   "execution_count": null,
   "metadata": {},
   "outputs": [],
   "source": [
    "mod_df = pd.read_csv('Modified.csv')"
   ]
  },
  {
   "cell_type": "code",
   "execution_count": null,
   "metadata": {},
   "outputs": [],
   "source": [
    "date_formats_to_check = ['%Y-%m-%d', '%Y/%m/%d', '%m/%d/%Y','%m-%d-%Y','%d/%m/%Y','%d-%m-%Y']\n",
    "\n",
    "def infer_date_format(date_str):\n",
    "    for date_format in date_formats_to_check:\n",
    "        try:\n",
    "            temp = pd.to_datetime(date_str, format=date_format)\n",
    "            return temp\n",
    "        except ValueError:\n",
    "            pass\n",
    "    return 'Unknown'"
   ]
  },
  {
   "cell_type": "code",
   "execution_count": null,
   "metadata": {},
   "outputs": [],
   "source": [
    "mod_df['Acq Date'] = mod_df['Acq Date'].apply(infer_date_format)"
   ]
  },
  {
   "cell_type": "code",
   "execution_count": null,
   "metadata": {},
   "outputs": [],
   "source": [
    "mod_df"
   ]
  }
 ],
 "metadata": {
  "kernelspec": {
   "display_name": "Python 3",
   "language": "python",
   "name": "python3"
  },
  "language_info": {
   "codemirror_mode": {
    "name": "ipython",
    "version": 3
   },
   "file_extension": ".py",
   "mimetype": "text/x-python",
   "name": "python",
   "nbconvert_exporter": "python",
   "pygments_lexer": "ipython3",
   "version": "3.11.4"
  }
 },
 "nbformat": 4,
 "nbformat_minor": 2
}
