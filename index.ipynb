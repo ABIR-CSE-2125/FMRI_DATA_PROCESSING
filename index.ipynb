{
 "cells": [
  {
   "cell_type": "code",
   "execution_count": 55,
   "metadata": {},
   "outputs": [],
   "source": [
    "import numpy as np\n",
    "from PIL import Image\n",
    "import pydicom as pydcm\n",
    "import os"
   ]
  },
  {
   "cell_type": "markdown",
   "metadata": {},
   "source": [
    "From DCM to PNG\n"
   ]
  },
  {
   "cell_type": "code",
   "execution_count": 56,
   "metadata": {},
   "outputs": [],
   "source": [
    "\n",
    "def dcm_to_png(image_to,image_from):\n",
    "    if not image_from.endswith('.dcm'):\n",
    "        return\n",
    "    im = pydcm.dcmread(image_from)\n",
    "    im = im.pixel_array.astype(float)\n",
    "    rescaled_image = (np.maximum(im,0)/im.max())*255\n",
    "\n",
    "    final_image = np.uint8(rescaled_image)\n",
    "\n",
    "    final_image = Image.fromarray(final_image)\n",
    "    # final_image.show()\n",
    "    png_path = image_to[:-3] + '.png'\n",
    "    final_image.save(png_path, format='PNG')"
   ]
  },
  {
   "cell_type": "code",
   "execution_count": 57,
   "metadata": {},
   "outputs": [],
   "source": [
    "\n",
    "def traverse_folder(path,new_path):\n",
    "    # List all files and directories in the current path\n",
    "    contents = os.listdir(path)\n",
    "    # path_len = len(path)\n",
    "    # print(path_len)\n",
    "    for item in contents:\n",
    "        item_path = os.path.join(path, item)\n",
    "        new_item_path = os.path.join(new_path,item)\n",
    "        if os.path.isdir(item_path):\n",
    "            if not (os.path.exists(new_item_path)):\n",
    "                os.makedirs(new_item_path, exist_ok=True)\n",
    "            traverse_folder(item_path,new_item_path)\n",
    "        else:\n",
    "            # If the item is a file, you can perform operations here\n",
    "            dcm_to_png(new_item_path,item_path)\n",
    "            # print(item_path)\n",
    "\n",
    "# traverse_folder('G:\\ADNI\\PNG_Data')"
   ]
  },
  {
   "cell_type": "code",
   "execution_count": 58,
   "metadata": {},
   "outputs": [],
   "source": [
    "if __name__ == \"__main__\":\n",
    "    my_dir = 'G:\\ADNI\\ADNI'\n",
    "    new_dir = 'G:\\ADNI\\PNG_Data'\n",
    "    traverse_folder(my_dir,new_dir)"
   ]
  }
 ],
 "metadata": {
  "kernelspec": {
   "display_name": "Python 3",
   "language": "python",
   "name": "python3"
  },
  "language_info": {
   "codemirror_mode": {
    "name": "ipython",
    "version": 3
   },
   "file_extension": ".py",
   "mimetype": "text/x-python",
   "name": "python",
   "nbconvert_exporter": "python",
   "pygments_lexer": "ipython3",
   "version": "3.11.4"
  }
 },
 "nbformat": 4,
 "nbformat_minor": 2
}
